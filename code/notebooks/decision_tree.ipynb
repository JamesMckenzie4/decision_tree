{
 "cells": [
  {
   "cell_type": "markdown",
   "metadata": {},
   "source": [
    "# Aim - To code up a decision tree from scratch to better understand the algorithm"
   ]
  },
  {
   "cell_type": "code",
   "execution_count": 1,
   "metadata": {},
   "outputs": [],
   "source": [
    "%matplotlib inline\n",
    "\n",
    "import matplotlib.pyplot as plt\n",
    "import numpy as np\n",
    "import pandas as pd\n",
    "import seaborn as sns\n",
    "from sklearn.model_selection import train_test_split\n",
    "from sklearn.metrics import mean_absolute_error, mean_squared_error\n",
    "from sklearn.datasets import california_housing"
   ]
  },
  {
   "cell_type": "code",
   "execution_count": 52,
   "metadata": {},
   "outputs": [],
   "source": [
    "class DecisionTree(object):\n",
    "    \"\"\"Implementation of a simple decision tree based machine learning algorithm\"\"\"\n",
    "    def __init__(self, training_data: pd.DataFrame):\n",
    "        self.training_data = training_data\n",
    "    def show_features(self):\n",
    "        return self.training_data.columns\n",
    "    def find_best_split(self, variable_name):\n",
    "        if self.training_data[variable_name].dtype == 'float64':\n",
    "            split_values = []\n",
    "            sum_squared_error = []\n",
    "            for feature_value in self.training_data[variable_name]:\n",
    "                split_values.append(feature_value)\n",
    "                sum_squared_error.append(DecisionTree.make_continuos_variable_split(self.training_data[variable_name], \n",
    "                                                                                    feature_value))\n",
    "            return split_values, sum_squared_error\n",
    "    @staticmethod\n",
    "    def make_continuos_variable_split(array: np.array, splitting_value: float):\n",
    "        left_node = array[array < splitting_value]\n",
    "        left_node_purity = DecisionTree.sum_squared_error(left_node)\n",
    "        right_node = array[array > splitting_value]\n",
    "        right_node_purity = DecisionTree.sum_squared_error(right_node)\n",
    "        return left_node_purity + right_node_purity\n",
    "    @staticmethod\n",
    "    def sum_squared_error(node_data: np.array):\n",
    "        return sum((node_data - node_data.mean()) ** 2)"
   ]
  },
  {
   "cell_type": "code",
   "execution_count": 53,
   "metadata": {},
   "outputs": [],
   "source": [
    "data = california_housing.fetch_california_housing()['data']\n",
    "feature_names = california_housing.fetch_california_housing()['feature_names']\n",
    "target = california_housing.fetch_california_housing()['target']\n",
    "\n",
    "df = pd.DataFrame(data, columns=feature_names)\n",
    "df['target'] = target"
   ]
  },
  {
   "cell_type": "code",
   "execution_count": 54,
   "metadata": {},
   "outputs": [],
   "source": [
    "model = DecisionTree(df)"
   ]
  },
  {
   "cell_type": "code",
   "execution_count": 61,
   "metadata": {},
   "outputs": [
    {
     "data": {
      "text/plain": [
       "MedInc        float64\n",
       "HouseAge      float64\n",
       "AveRooms      float64\n",
       "AveBedrms     float64\n",
       "Population    float64\n",
       "AveOccup      float64\n",
       "Latitude      float64\n",
       "Longitude     float64\n",
       "target        float64\n",
       "dtype: object"
      ]
     },
     "execution_count": 61,
     "metadata": {},
     "output_type": "execute_result"
    }
   ],
   "source": []
  },
  {
   "cell_type": "code",
   "execution_count": 56,
   "metadata": {},
   "outputs": [],
   "source": [
    "split_values, sum_squared_errors = model.find_best_split('HouseAge')"
   ]
  },
  {
   "cell_type": "code",
   "execution_count": 59,
   "metadata": {},
   "outputs": [
    {
     "data": {
      "text/plain": [
       "<matplotlib.collections.PathCollection at 0x7ff7c8415320>"
      ]
     },
     "execution_count": 59,
     "metadata": {},
     "output_type": "execute_result"
    },
    {
     "data": {
      "image/png": "[encoded data removed]",
      "text/plain": [
       "<matplotlib.figure.Figure at 0x7ff7c8576828>"
      ]
     },
     "metadata": {},
     "output_type": "display_data"
    }
   ],
   "source": [
    "plt.scatter(split_values, sum_squared_errors)"
   ]
  },
  {
   "cell_type": "code",
   "execution_count": null,
   "metadata": {},
   "outputs": [],
   "source": []
  }
 ],
 "metadata": {
  "kernelspec": {
   "display_name": "Python 3",
   "language": "python",
   "name": "python3"
  },
  "language_info": {
   "codemirror_mode": {
    "name": "ipython",
    "version": 3
   },
   "file_extension": ".py",
   "mimetype": "text/x-python",
   "name": "python",
   "nbconvert_exporter": "python",
   "pygments_lexer": "ipython3",
   "version": "3.6.4"
  }
 },
 "nbformat": 4,
 "nbformat_minor": 2
}
