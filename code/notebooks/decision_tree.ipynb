{
 "cells": [
  {
   "cell_type": "markdown",
   "metadata": {},
   "source": [
    "# Aim - To code up a decision tree from scratch to better understandr the algorithm"
   ]
  },
  {
   "cell_type": "code",
   "execution_count": 35,
   "metadata": {},
   "outputs": [],
   "source": [
    "%matplotlib inline\n",
    "\n",
    "import matplotlib.pyplot as plt\n",
    "import numpy as np\n",
    "import pandas as pd\n",
    "import seaborn as sns\n",
    "from sklearn.model_selection import train_test_split\n",
    "from sklearn.metrics import mean_absolute_error, mean_squared_error\n",
    "from sklearn.datasets import california_housing"
   ]
  },
  {
   "cell_type": "code",
   "execution_count": 39,
   "metadata": {},
   "outputs": [],
   "source": [
    "class DecisionTree(object):\n",
    "    \"\"\"Implementation of a simple decision tree based machine learning algorithm\"\"\"\n",
    "    def __init__(self, training_data: pd.DataFrame):\n",
    "        self.training_data = training_data\n",
    "    def show_features(self):\n",
    "        return self.training_data.columns\n",
    "    @staticmethod\n",
    "    def sum_squared_error(node_data: np.array):\n",
    "        return sum((node_data - node_data.mean) ** 2)"
   ]
  },
  {
   "cell_type": "code",
   "execution_count": 21,
   "metadata": {},
   "outputs": [],
   "source": [
    "data = california_housing.fetch_california_housing()['data']\n",
    "feature_names = california_housing.fetch_california_housing()['feature_names']\n",
    "target = california_housing.fetch_california_housing()['target']\n",
    "\n",
    "df = pd.DataFrame(data, columns=feature_names)\n",
    "df['target'] = target"
   ]
  },
  {
   "cell_type": "code",
   "execution_count": 33,
   "metadata": {},
   "outputs": [],
   "source": [
    "model = DecisionTree(df)\n",
    "model.show_features()"
   ]
  }
 ],
 "metadata": {
  "kernelspec": {
   "display_name": "Python 3",
   "language": "python",
   "name": "python3"
  },
  "language_info": {
   "codemirror_mode": {
    "name": "ipython",
    "version": 3
   },
   "file_extension": ".py",
   "mimetype": "text/x-python",
   "name": "python",
   "nbconvert_exporter": "python",
   "pygments_lexer": "ipython3",
   "version": "3.6.4"
  }
 },
 "nbformat": 4,
 "nbformat_minor": 2
}
